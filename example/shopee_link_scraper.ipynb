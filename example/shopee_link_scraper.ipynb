{
  "nbformat": 4,
  "nbformat_minor": 0,
  "metadata": {
    "orig_nbformat": 2,
    "colab": {
      "name": "shopee_link_scraper.ipynb",
      "provenance": []
    },
    "language_info": {
      "name": "python"
    },
    "kernelspec": {
      "name": "python3",
      "display_name": "Python 3"
    }
  },
  "cells": [
    {
      "cell_type": "code",
      "metadata": {
        "colab": {
          "base_uri": "https://localhost:8080/"
        },
        "id": "L93IoYAd9B9Q",
        "outputId": "f879bf70-e630-4e0c-e307-91fb99bbcddb"
      },
      "source": [
        "!pip install selenium\n",
        "!pip install beautifulsoup4\n",
        "!apt-get update # to update ubuntu to correctly run apt install\n",
        "!apt install chromium-chromedriver\n",
        "!cp /usr/lib/chromium-browser/chromedriver /usr/bin\n",
        "import sys\n",
        "sys.path.insert(0,'/usr/lib/chromium-browser/chromedriver')"
      ],
      "execution_count": 1,
      "outputs": [
        {
          "output_type": "stream",
          "text": [
            "Collecting selenium\n",
            "\u001b[?25l  Downloading https://files.pythonhosted.org/packages/80/d6/4294f0b4bce4de0abf13e17190289f9d0613b0a44e5dd6a7f5ca98459853/selenium-3.141.0-py2.py3-none-any.whl (904kB)\n",
            "\r\u001b[K     |▍                               | 10kB 10.7MB/s eta 0:00:01\r\u001b[K     |▊                               | 20kB 16.2MB/s eta 0:00:01\r\u001b[K     |█                               | 30kB 19.5MB/s eta 0:00:01\r\u001b[K     |█▌                              | 40kB 22.1MB/s eta 0:00:01\r\u001b[K     |█▉                              | 51kB 23.8MB/s eta 0:00:01\r\u001b[K     |██▏                             | 61kB 24.6MB/s eta 0:00:01\r\u001b[K     |██▌                             | 71kB 24.6MB/s eta 0:00:01\r\u001b[K     |███                             | 81kB 25.6MB/s eta 0:00:01\r\u001b[K     |███▎                            | 92kB 25.7MB/s eta 0:00:01\r\u001b[K     |███▋                            | 102kB 25.9MB/s eta 0:00:01\r\u001b[K     |████                            | 112kB 25.9MB/s eta 0:00:01\r\u001b[K     |████▍                           | 122kB 25.9MB/s eta 0:00:01\r\u001b[K     |████▊                           | 133kB 25.9MB/s eta 0:00:01\r\u001b[K     |█████                           | 143kB 25.9MB/s eta 0:00:01\r\u001b[K     |█████▍                          | 153kB 25.9MB/s eta 0:00:01\r\u001b[K     |█████▉                          | 163kB 25.9MB/s eta 0:00:01\r\u001b[K     |██████▏                         | 174kB 25.9MB/s eta 0:00:01\r\u001b[K     |██████▌                         | 184kB 25.9MB/s eta 0:00:01\r\u001b[K     |██████▉                         | 194kB 25.9MB/s eta 0:00:01\r\u001b[K     |███████▎                        | 204kB 25.9MB/s eta 0:00:01\r\u001b[K     |███████▋                        | 215kB 25.9MB/s eta 0:00:01\r\u001b[K     |████████                        | 225kB 25.9MB/s eta 0:00:01\r\u001b[K     |████████▎                       | 235kB 25.9MB/s eta 0:00:01\r\u001b[K     |████████▊                       | 245kB 25.9MB/s eta 0:00:01\r\u001b[K     |█████████                       | 256kB 25.9MB/s eta 0:00:01\r\u001b[K     |█████████▍                      | 266kB 25.9MB/s eta 0:00:01\r\u001b[K     |█████████▉                      | 276kB 25.9MB/s eta 0:00:01\r\u001b[K     |██████████▏                     | 286kB 25.9MB/s eta 0:00:01\r\u001b[K     |██████████▌                     | 296kB 25.9MB/s eta 0:00:01\r\u001b[K     |██████████▉                     | 307kB 25.9MB/s eta 0:00:01\r\u001b[K     |███████████▎                    | 317kB 25.9MB/s eta 0:00:01\r\u001b[K     |███████████▋                    | 327kB 25.9MB/s eta 0:00:01\r\u001b[K     |████████████                    | 337kB 25.9MB/s eta 0:00:01\r\u001b[K     |████████████▎                   | 348kB 25.9MB/s eta 0:00:01\r\u001b[K     |████████████▊                   | 358kB 25.9MB/s eta 0:00:01\r\u001b[K     |█████████████                   | 368kB 25.9MB/s eta 0:00:01\r\u001b[K     |█████████████▍                  | 378kB 25.9MB/s eta 0:00:01\r\u001b[K     |█████████████▊                  | 389kB 25.9MB/s eta 0:00:01\r\u001b[K     |██████████████▏                 | 399kB 25.9MB/s eta 0:00:01\r\u001b[K     |██████████████▌                 | 409kB 25.9MB/s eta 0:00:01\r\u001b[K     |██████████████▉                 | 419kB 25.9MB/s eta 0:00:01\r\u001b[K     |███████████████▏                | 430kB 25.9MB/s eta 0:00:01\r\u001b[K     |███████████████▋                | 440kB 25.9MB/s eta 0:00:01\r\u001b[K     |████████████████                | 450kB 25.9MB/s eta 0:00:01\r\u001b[K     |████████████████▎               | 460kB 25.9MB/s eta 0:00:01\r\u001b[K     |████████████████▋               | 471kB 25.9MB/s eta 0:00:01\r\u001b[K     |█████████████████               | 481kB 25.9MB/s eta 0:00:01\r\u001b[K     |█████████████████▍              | 491kB 25.9MB/s eta 0:00:01\r\u001b[K     |█████████████████▊              | 501kB 25.9MB/s eta 0:00:01\r\u001b[K     |██████████████████▏             | 512kB 25.9MB/s eta 0:00:01\r\u001b[K     |██████████████████▌             | 522kB 25.9MB/s eta 0:00:01\r\u001b[K     |██████████████████▉             | 532kB 25.9MB/s eta 0:00:01\r\u001b[K     |███████████████████▏            | 542kB 25.9MB/s eta 0:00:01\r\u001b[K     |███████████████████▋            | 552kB 25.9MB/s eta 0:00:01\r\u001b[K     |████████████████████            | 563kB 25.9MB/s eta 0:00:01\r\u001b[K     |████████████████████▎           | 573kB 25.9MB/s eta 0:00:01\r\u001b[K     |████████████████████▋           | 583kB 25.9MB/s eta 0:00:01\r\u001b[K     |█████████████████████           | 593kB 25.9MB/s eta 0:00:01\r\u001b[K     |█████████████████████▍          | 604kB 25.9MB/s eta 0:00:01\r\u001b[K     |█████████████████████▊          | 614kB 25.9MB/s eta 0:00:01\r\u001b[K     |██████████████████████          | 624kB 25.9MB/s eta 0:00:01\r\u001b[K     |██████████████████████▌         | 634kB 25.9MB/s eta 0:00:01\r\u001b[K     |██████████████████████▉         | 645kB 25.9MB/s eta 0:00:01\r\u001b[K     |███████████████████████▏        | 655kB 25.9MB/s eta 0:00:01\r\u001b[K     |███████████████████████▌        | 665kB 25.9MB/s eta 0:00:01\r\u001b[K     |████████████████████████        | 675kB 25.9MB/s eta 0:00:01\r\u001b[K     |████████████████████████▎       | 686kB 25.9MB/s eta 0:00:01\r\u001b[K     |████████████████████████▋       | 696kB 25.9MB/s eta 0:00:01\r\u001b[K     |█████████████████████████       | 706kB 25.9MB/s eta 0:00:01\r\u001b[K     |█████████████████████████▍      | 716kB 25.9MB/s eta 0:00:01\r\u001b[K     |█████████████████████████▊      | 727kB 25.9MB/s eta 0:00:01\r\u001b[K     |██████████████████████████      | 737kB 25.9MB/s eta 0:00:01\r\u001b[K     |██████████████████████████▍     | 747kB 25.9MB/s eta 0:00:01\r\u001b[K     |██████████████████████████▉     | 757kB 25.9MB/s eta 0:00:01\r\u001b[K     |███████████████████████████▏    | 768kB 25.9MB/s eta 0:00:01\r\u001b[K     |███████████████████████████▌    | 778kB 25.9MB/s eta 0:00:01\r\u001b[K     |████████████████████████████    | 788kB 25.9MB/s eta 0:00:01\r\u001b[K     |████████████████████████████▎   | 798kB 25.9MB/s eta 0:00:01\r\u001b[K     |████████████████████████████▋   | 808kB 25.9MB/s eta 0:00:01\r\u001b[K     |█████████████████████████████   | 819kB 25.9MB/s eta 0:00:01\r\u001b[K     |█████████████████████████████▍  | 829kB 25.9MB/s eta 0:00:01\r\u001b[K     |█████████████████████████████▊  | 839kB 25.9MB/s eta 0:00:01\r\u001b[K     |██████████████████████████████  | 849kB 25.9MB/s eta 0:00:01\r\u001b[K     |██████████████████████████████▍ | 860kB 25.9MB/s eta 0:00:01\r\u001b[K     |██████████████████████████████▉ | 870kB 25.9MB/s eta 0:00:01\r\u001b[K     |███████████████████████████████▏| 880kB 25.9MB/s eta 0:00:01\r\u001b[K     |███████████████████████████████▌| 890kB 25.9MB/s eta 0:00:01\r\u001b[K     |███████████████████████████████▉| 901kB 25.9MB/s eta 0:00:01\r\u001b[K     |████████████████████████████████| 911kB 25.9MB/s \n",
            "\u001b[?25hRequirement already satisfied: urllib3 in /usr/local/lib/python3.7/dist-packages (from selenium) (1.24.3)\n",
            "Installing collected packages: selenium\n",
            "Successfully installed selenium-3.141.0\n",
            "Requirement already satisfied: beautifulsoup4 in /usr/local/lib/python3.7/dist-packages (4.6.3)\n",
            "Get:1 http://security.ubuntu.com/ubuntu bionic-security InRelease [88.7 kB]\n",
            "Get:2 https://cloud.r-project.org/bin/linux/ubuntu bionic-cran40/ InRelease [3,626 B]\n",
            "Ign:3 https://developer.download.nvidia.com/compute/cuda/repos/ubuntu1804/x86_64  InRelease\n",
            "Get:4 http://ppa.launchpad.net/c2d4u.team/c2d4u4.0+/ubuntu bionic InRelease [15.9 kB]\n",
            "Hit:5 http://archive.ubuntu.com/ubuntu bionic InRelease\n",
            "Ign:6 https://developer.download.nvidia.com/compute/machine-learning/repos/ubuntu1804/x86_64  InRelease\n",
            "Get:7 https://developer.download.nvidia.com/compute/cuda/repos/ubuntu1804/x86_64  Release [697 B]\n",
            "Hit:8 https://developer.download.nvidia.com/compute/machine-learning/repos/ubuntu1804/x86_64  Release\n",
            "Get:9 https://developer.download.nvidia.com/compute/cuda/repos/ubuntu1804/x86_64  Release.gpg [836 B]\n",
            "Get:10 http://archive.ubuntu.com/ubuntu bionic-updates InRelease [88.7 kB]\n",
            "Get:11 http://security.ubuntu.com/ubuntu bionic-security/main amd64 Packages [2,185 kB]\n",
            "Hit:12 http://ppa.launchpad.net/cran/libgit2/ubuntu bionic InRelease\n",
            "Get:13 http://security.ubuntu.com/ubuntu bionic-security/restricted amd64 Packages [450 kB]\n",
            "Get:14 http://security.ubuntu.com/ubuntu bionic-security/universe amd64 Packages [1,415 kB]\n",
            "Get:15 http://archive.ubuntu.com/ubuntu bionic-backports InRelease [74.6 kB]\n",
            "Get:16 http://ppa.launchpad.net/deadsnakes/ppa/ubuntu bionic InRelease [15.9 kB]\n",
            "Get:17 https://cloud.r-project.org/bin/linux/ubuntu bionic-cran40/ Packages [61.8 kB]\n",
            "Get:18 http://ppa.launchpad.net/graphics-drivers/ppa/ubuntu bionic InRelease [21.3 kB]\n",
            "Ign:20 https://developer.download.nvidia.com/compute/cuda/repos/ubuntu1804/x86_64  Packages\n",
            "Get:20 https://developer.download.nvidia.com/compute/cuda/repos/ubuntu1804/x86_64  Packages [800 kB]\n",
            "Get:21 http://ppa.launchpad.net/c2d4u.team/c2d4u4.0+/ubuntu bionic/main Sources [1,771 kB]\n",
            "Get:22 http://archive.ubuntu.com/ubuntu bionic-updates/multiverse amd64 Packages [33.5 kB]\n",
            "Get:23 http://archive.ubuntu.com/ubuntu bionic-updates/universe amd64 Packages [2,184 kB]\n",
            "Get:24 http://ppa.launchpad.net/c2d4u.team/c2d4u4.0+/ubuntu bionic/main amd64 Packages [906 kB]\n",
            "Get:25 http://archive.ubuntu.com/ubuntu bionic-updates/main amd64 Packages [2,619 kB]\n",
            "Get:26 http://archive.ubuntu.com/ubuntu bionic-updates/restricted amd64 Packages [481 kB]\n",
            "Get:27 http://ppa.launchpad.net/deadsnakes/ppa/ubuntu bionic/main amd64 Packages [40.9 kB]\n",
            "Get:28 http://ppa.launchpad.net/graphics-drivers/ppa/ubuntu bionic/main amd64 Packages [41.6 kB]\n",
            "Fetched 13.3 MB in 4s (3,780 kB/s)\n",
            "Reading package lists... Done\n",
            "Reading package lists... Done\n",
            "Building dependency tree       \n",
            "Reading state information... Done\n",
            "The following additional packages will be installed:\n",
            "  chromium-browser chromium-browser-l10n chromium-codecs-ffmpeg-extra\n",
            "Suggested packages:\n",
            "  webaccounts-chromium-extension unity-chromium-extension\n",
            "The following NEW packages will be installed:\n",
            "  chromium-browser chromium-browser-l10n chromium-chromedriver\n",
            "  chromium-codecs-ffmpeg-extra\n",
            "0 upgraded, 4 newly installed, 0 to remove and 48 not upgraded.\n",
            "Need to get 86.0 MB of archives.\n",
            "After this operation, 298 MB of additional disk space will be used.\n",
            "Get:1 http://archive.ubuntu.com/ubuntu bionic-updates/universe amd64 chromium-codecs-ffmpeg-extra amd64 91.0.4472.77-0ubuntu0.18.04.1 [1,124 kB]\n",
            "Get:2 http://archive.ubuntu.com/ubuntu bionic-updates/universe amd64 chromium-browser amd64 91.0.4472.77-0ubuntu0.18.04.1 [76.1 MB]\n",
            "Get:3 http://archive.ubuntu.com/ubuntu bionic-updates/universe amd64 chromium-browser-l10n all 91.0.4472.77-0ubuntu0.18.04.1 [3,948 kB]\n",
            "Get:4 http://archive.ubuntu.com/ubuntu bionic-updates/universe amd64 chromium-chromedriver amd64 91.0.4472.77-0ubuntu0.18.04.1 [4,838 kB]\n",
            "Fetched 86.0 MB in 3s (28.2 MB/s)\n",
            "Selecting previously unselected package chromium-codecs-ffmpeg-extra.\n",
            "(Reading database ... 160772 files and directories currently installed.)\n",
            "Preparing to unpack .../chromium-codecs-ffmpeg-extra_91.0.4472.77-0ubuntu0.18.04.1_amd64.deb ...\n",
            "Unpacking chromium-codecs-ffmpeg-extra (91.0.4472.77-0ubuntu0.18.04.1) ...\n",
            "Selecting previously unselected package chromium-browser.\n",
            "Preparing to unpack .../chromium-browser_91.0.4472.77-0ubuntu0.18.04.1_amd64.deb ...\n",
            "Unpacking chromium-browser (91.0.4472.77-0ubuntu0.18.04.1) ...\n",
            "Selecting previously unselected package chromium-browser-l10n.\n",
            "Preparing to unpack .../chromium-browser-l10n_91.0.4472.77-0ubuntu0.18.04.1_all.deb ...\n",
            "Unpacking chromium-browser-l10n (91.0.4472.77-0ubuntu0.18.04.1) ...\n",
            "Selecting previously unselected package chromium-chromedriver.\n",
            "Preparing to unpack .../chromium-chromedriver_91.0.4472.77-0ubuntu0.18.04.1_amd64.deb ...\n",
            "Unpacking chromium-chromedriver (91.0.4472.77-0ubuntu0.18.04.1) ...\n",
            "Setting up chromium-codecs-ffmpeg-extra (91.0.4472.77-0ubuntu0.18.04.1) ...\n",
            "Setting up chromium-browser (91.0.4472.77-0ubuntu0.18.04.1) ...\n",
            "update-alternatives: using /usr/bin/chromium-browser to provide /usr/bin/x-www-browser (x-www-browser) in auto mode\n",
            "update-alternatives: using /usr/bin/chromium-browser to provide /usr/bin/gnome-www-browser (gnome-www-browser) in auto mode\n",
            "Setting up chromium-chromedriver (91.0.4472.77-0ubuntu0.18.04.1) ...\n",
            "Setting up chromium-browser-l10n (91.0.4472.77-0ubuntu0.18.04.1) ...\n",
            "Processing triggers for man-db (2.8.3-2ubuntu0.1) ...\n",
            "Processing triggers for hicolor-icon-theme (0.17-2) ...\n",
            "Processing triggers for mime-support (3.60ubuntu1) ...\n",
            "Processing triggers for libc-bin (2.27-3ubuntu1.2) ...\n",
            "/sbin/ldconfig.real: /usr/local/lib/python3.7/dist-packages/ideep4py/lib/libmkldnn.so.0 is not a symbolic link\n",
            "\n",
            "cp: '/usr/lib/chromium-browser/chromedriver' and '/usr/bin/chromedriver' are the same file\n"
          ],
          "name": "stdout"
        }
      ]
    },
    {
      "cell_type": "code",
      "metadata": {
        "id": "oZuIFwg381ff"
      },
      "source": [
        "import time\n",
        "from selenium import webdriver\n",
        "from bs4 import BeautifulSoup\n",
        "import pandas as pd\n",
        "import re"
      ],
      "execution_count": 2,
      "outputs": []
    },
    {
      "cell_type": "code",
      "metadata": {
        "id": "GWGe9-N081fi"
      },
      "source": [
        "def get_all_product_link_per_page(soup):\n",
        "    link_each_product_per_page = []\n",
        "    link_each_product_div = soup.find_all('div',{'class':'col-xs-2-4 shopee-search-item-result__item'})\n",
        "    for link_each_product_field in link_each_product_div:\n",
        "        link_each_product = link_each_product_field.find_all('a', {'data-sqe': 'link'})\n",
        "        link_each_product = ['https://shopee.co.id'+each_link.get('href') for each_link in link_each_product]\n",
        "        link_each_product_per_page.extend(link_each_product)\n",
        "    return link_each_product_per_page"
      ],
      "execution_count": 3,
      "outputs": []
    },
    {
      "cell_type": "code",
      "metadata": {
        "id": "MubPLtCk81fj"
      },
      "source": [
        "def shopee_product_link_scraper(ref_link, defined_total_page=5):\n",
        "    chrome_options = webdriver.ChromeOptions()\n",
        "    chrome_options.add_argument('--headless')\n",
        "    chrome_options.add_argument('--no-sandbox')\n",
        "    chrome_options.add_argument('--disable-dev-shm-usage')\n",
        "    driver = webdriver.Chrome('chromedriver',chrome_options=chrome_options)\n",
        "    driver.get(ref_link)\n",
        "    time.sleep(2)  # Allow 2 seconds for the web page to open\n",
        "    scroll_pause_time = 1 \n",
        "    screen_height = driver.execute_script(\"return window.screen.height;\")   # get the screen height of the web\n",
        " \n",
        "    data_result_dict = {'Product Link': []}\n",
        "\n",
        "    for page in range(defined_total_page):\n",
        "        i = 1\n",
        "        while True:\n",
        "            driver.execute_script(\"window.scrollTo(0, {screen_height}*{i});\".format(screen_height=screen_height, i=i))  \n",
        "            i += 1\n",
        "            time.sleep(scroll_pause_time)\n",
        "            scroll_height = driver.execute_script(\"return document.body.scrollHeight;\")  \n",
        "            if (screen_height) * i > scroll_height:\n",
        "                break \n",
        "\n",
        "        time.sleep(10)\n",
        "        soup = BeautifulSoup(driver.page_source, \"html.parser\")\n",
        "        all_product_link_per_page = get_all_product_link_per_page(soup)\n",
        "        print(\"[INFO] page: {}; recorded product num: {}\".format(page+1, len(all_product_link_per_page)))\n",
        "        data_result_dict['Product Link'].extend(all_product_link_per_page)\n",
        "        next_button = driver.find_element_by_xpath('//button[@class=\"shopee-icon-button shopee-icon-button--right \"]')\n",
        "        webdriver.ActionChains(driver).move_to_element(next_button).click(next_button).perform()\n",
        "        time.sleep(10)\n",
        "    \n",
        "    data_result_df = pd.DataFrame.from_dict(data_result_dict)\n",
        "    data_result_df.to_csv('shopee_link_data.csv', index=False)\n",
        "    return data_result_df"
      ],
      "execution_count": 8,
      "outputs": []
    },
    {
      "cell_type": "code",
      "metadata": {
        "colab": {
          "base_uri": "https://localhost:8080/"
        },
        "id": "Vr4-Snhp81fk",
        "outputId": "3d4ca53e-9f61-4972-ef4a-808d0342762d"
      },
      "source": [
        "ref_link = 'https://shopee.co.id/Handphone-Tablet-cat.40.1211?locations=Jabodetabek%2CDKI%2520Jakarta&page=0'\n",
        "tokped_data = shopee_product_link_scraper(ref_link, defined_total_page=2)"
      ],
      "execution_count": 9,
      "outputs": [
        {
          "output_type": "stream",
          "text": [
            "/usr/local/lib/python3.7/dist-packages/ipykernel_launcher.py:6: DeprecationWarning: use options instead of chrome_options\n",
            "  \n"
          ],
          "name": "stderr"
        },
        {
          "output_type": "stream",
          "text": [
            "[INFO] page: 1; recorded product num: 36\n",
            "[INFO] page: 2; recorded product num: 36\n"
          ],
          "name": "stdout"
        }
      ]
    },
    {
      "cell_type": "code",
      "metadata": {
        "id": "VTzgx17p9sal"
      },
      "source": [
        ""
      ],
      "execution_count": null,
      "outputs": []
    }
  ]
}